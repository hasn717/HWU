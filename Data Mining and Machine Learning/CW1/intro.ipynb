Getting started with Python
In this lab, we will review the basics of Python language and some of the most well-known data science libraries.

Prerequisites:
Installation of Anaconda (Python 3) and Python environments.
Table of content:

Python Introduction
Basic Types
Libraries
numpy
matplotlib
pandas
scikit-learn

Python Introduction
Below are the links to the resources that can help you to learn Python language

Python website
Official tutorial
LearnPython.org interactive Python tutorial
DataCamp Introduction to Python
Python for Data Science
[ ]
↳ 51 cells hidden

Libraries

numpy
Mostly can be used for arrays, vectors and numerical computations.

Official Website

PIP

If you use pip, you can install it with:

pip install numpy

[ ]
↳ 19 cells hidden

matplotlib
Matplotlib is a comprehensive library for creating static, animated, and interactive visualizations

Official Website

Installation Guide

PIP

If you use pip, you can install it with:

pip install matplotlib

[ ]
↳ 3 cells hidden

pandas
pandas is a fast, powerful, flexible and easy to use open source data analysis and manipulation tool

Official Website

Installation Guide

PIP

If you use pip, you can install it with:

pip install pandas

[ ]
↳ 6 cells hidden

scikit-learn
Machine Learning in Python. Simple and efficient tools for predictive data analysis

Official Website

Installation Guide

PIP

If you use pip, you can install it with:

pip install sklearn

[ ]
# some models for classification and regression
from sklearn.linear_model import LogisticRegression, LinearRegression
from sklearn.neighbors import KNeighborsClassifier, KNeighborsRegressor
from sklearn.tree import DecisionTreeClassifier, DecisionTreeRegressor

# model selection tools
from sklearn.model_selection import KFold, train_test_split, GridSearchCV

# metrics
from sklearn.metrics import accuracy_score, roc_auc_score, f1_score, precision_score, recall_score, confusion_matrix
[ ]
