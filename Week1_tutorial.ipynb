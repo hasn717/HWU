{
  "nbformat": 4,
  "nbformat_minor": 0,
  "metadata": {
    "celltoolbar": "Raw Cell Format",
    "kernelspec": {
      "display_name": "Python 3",
      "language": "python",
      "name": "python3"
    },
    "language_info": {
      "codemirror_mode": {
        "name": "ipython",
        "version": 3
      },
      "file_extension": ".py",
      "mimetype": "text/x-python",
      "name": "python",
      "nbconvert_exporter": "python",
      "pygments_lexer": "ipython3",
      "version": "3.7.7"
    },
    "colab": {
      "name": "Week1_tutorial.ipynb",
      "provenance": [],
      "collapsed_sections": [
        "FgoTXtD2yIm3",
        "amil5aEByInL",
        "X_UTZcbdyIne",
        "hz_oowXiyIny",
        "61fw6sVAyIn_",
        "7SulHve0yIoO",
        "yu2XTj9nyIoc"
      ],
      "include_colab_link": true
    }
  },
  "cells": [
    {
      "cell_type": "markdown",
      "metadata": {
        "id": "view-in-github",
        "colab_type": "text"
      },
      "source": [
        "<a href=\"https://colab.research.google.com/github/hasn717/HWU/blob/main/Week1_tutorial.ipynb\" target=\"_parent\"><img src=\"https://colab.research.google.com/assets/colab-badge.svg\" alt=\"Open In Colab\"/></a>"
      ]
    },
    {
      "cell_type": "markdown",
      "metadata": {
        "id": "TV3PO-2AyImE"
      },
      "source": [
        "# Getting started with Python\n",
        "In this lab, we will review the basics of Python language and some of the most well-known data science libraries.\n",
        "\n",
        "### Prerequisites:\n",
        "\n",
        "- Installation of [Anaconda](https://www.anaconda.com/products/individual)  (Python 3) and Python environments.\n",
        "\n",
        "Table of content:\n",
        "\n",
        "- <a href='#PythonIntroduction'>Python Introduction</a>\n",
        "    - <a href='#BasicTypes'>Basic Types</a>\n",
        "- <a href='#Libraries'>Libraries</a>\n",
        "    - <a href='#numpy'>numpy</a>\n",
        "    - <a href='#matplotlib'>matplotlib</a>\n",
        "    - <a href='#pandas'>pandas</a>\n",
        "    - <a href=\"#scikit-learn\">scikit-learn</a>\n",
        "\n",
        "\n"
      ]
    },
    {
      "cell_type": "markdown",
      "metadata": {
        "id": "uI4itolvyImG"
      },
      "source": [
        "<a id='PythonIntroduction'></a>\n",
        "## Python Introduction\n",
        "\n",
        "Below are the links to the resources that can help you to learn Python language\n",
        "\n",
        "- <a href='https://www.python.org/doc/'>Python website</a>\n",
        "- <a href='https://docs.python.org/3/tutorial/'>Official tutorial</a>\n",
        "- <a href='https://www.learnpython.org/'>LearnPython.org interactive Python tutorial </a>\n",
        "- <a href='https://www.datacamp.com/courses/intro-to-python-for-data-science'>DataCamp Introduction to Python </a>\n",
        "- <a href='https://cognitiveclass.ai/courses/python-for-data-science'>Python for Data Science</a>\n"
      ]
    },
    {
      "cell_type": "markdown",
      "metadata": {
        "id": "BIHCM4XayImH"
      },
      "source": [
        "<a id='BasicTypes'></a>\n",
        "### Basic Types"
      ]
    },
    {
      "cell_type": "markdown",
      "metadata": {
        "id": "lvto1bVsyImI"
      },
      "source": [
        "#### Integer"
      ]
    },
    {
      "cell_type": "code",
      "metadata": {
        "id": "We5hnX65yImK",
        "colab": {
          "base_uri": "https://localhost:8080/",
          "height": 34
        },
        "outputId": "6816b2dc-0bce-4ce9-976c-4caa10e344dd"
      },
      "source": [
        "1 # integer"
      ],
      "execution_count": null,
      "outputs": [
        {
          "output_type": "execute_result",
          "data": {
            "text/plain": [
              "1"
            ]
          },
          "metadata": {
            "tags": []
          },
          "execution_count": 2
        }
      ]
    },
    {
      "cell_type": "code",
      "metadata": {
        "id": "l8ZHDKUQyImS",
        "outputId": "76b00e18-5eef-4c25-f7a9-81f05f0d9ea5"
      },
      "source": [
        "int(1) # same "
      ],
      "execution_count": null,
      "outputs": [
        {
          "output_type": "execute_result",
          "data": {
            "text/plain": [
              "1"
            ]
          },
          "metadata": {
            "tags": []
          },
          "execution_count": 2
        }
      ]
    },
    {
      "cell_type": "markdown",
      "metadata": {
        "id": "y4H0uDRGyImW"
      },
      "source": [
        "#### Float"
      ]
    },
    {
      "cell_type": "code",
      "metadata": {
        "id": "KlPiJbkWyImX",
        "outputId": "c790b907-95ca-4aba-8987-c5b94086d8bd"
      },
      "source": [
        "1.0 # float"
      ],
      "execution_count": null,
      "outputs": [
        {
          "output_type": "execute_result",
          "data": {
            "text/plain": [
              "1.0"
            ]
          },
          "metadata": {
            "tags": []
          },
          "execution_count": 3
        }
      ]
    },
    {
      "cell_type": "code",
      "metadata": {
        "id": "31GXU28lyImf",
        "outputId": "b11f47c8-9ba7-4c16-ea26-3cfff1fe1863"
      },
      "source": [
        "float(1) # same"
      ],
      "execution_count": null,
      "outputs": [
        {
          "output_type": "execute_result",
          "data": {
            "text/plain": [
              "1.0"
            ]
          },
          "metadata": {
            "tags": []
          },
          "execution_count": 4
        }
      ]
    },
    {
      "cell_type": "markdown",
      "metadata": {
        "id": "YZUrj4vUyImj"
      },
      "source": [
        "Converting string to int"
      ]
    },
    {
      "cell_type": "code",
      "metadata": {
        "id": "-XsnKWb7yImk",
        "outputId": "3fd0f09a-025a-4b4d-fcf3-40a308df5ab2"
      },
      "source": [
        "int(\"1\") # string to int"
      ],
      "execution_count": null,
      "outputs": [
        {
          "output_type": "execute_result",
          "data": {
            "text/plain": [
              "1"
            ]
          },
          "metadata": {
            "tags": []
          },
          "execution_count": 5
        }
      ]
    },
    {
      "cell_type": "markdown",
      "metadata": {
        "id": "qdeOz2FIyImn"
      },
      "source": [
        "#### Variable"
      ]
    },
    {
      "cell_type": "code",
      "metadata": {
        "id": "CcDc-Hz-yImn",
        "outputId": "ebb02686-a71f-4574-8515-6aa6d4bbb08f"
      },
      "source": [
        "a = 1 + 2  #make a variable\n",
        "print(a)"
      ],
      "execution_count": null,
      "outputs": [
        {
          "output_type": "stream",
          "text": [
            "3\n"
          ],
          "name": "stdout"
        }
      ]
    },
    {
      "cell_type": "markdown",
      "metadata": {
        "id": "KcUpLJqjyImt"
      },
      "source": [
        "#### Range"
      ]
    },
    {
      "cell_type": "code",
      "metadata": {
        "id": "EUFT3D5OyImt",
        "outputId": "94e3eca4-34a4-4e01-a113-aee6bc7fa3bd"
      },
      "source": [
        "range(0,10) # 0,1,2,3,4,5,6,7,8,9"
      ],
      "execution_count": null,
      "outputs": [
        {
          "output_type": "execute_result",
          "data": {
            "text/plain": [
              "range(0, 10)"
            ]
          },
          "metadata": {
            "tags": []
          },
          "execution_count": 7
        }
      ]
    },
    {
      "cell_type": "code",
      "metadata": {
        "id": "bCrHnB94yImx",
        "outputId": "c6130721-29f7-4000-f7e6-c0e898e4e9b9"
      },
      "source": [
        "range(10) # same"
      ],
      "execution_count": null,
      "outputs": [
        {
          "output_type": "execute_result",
          "data": {
            "text/plain": [
              "range(0, 10)"
            ]
          },
          "metadata": {
            "tags": []
          },
          "execution_count": 8
        }
      ]
    },
    {
      "cell_type": "code",
      "metadata": {
        "id": "cH8nD18iyIm0",
        "outputId": "29a80eed-f359-49df-abd6-6c6fb97e7e7d"
      },
      "source": [
        "b = range(0,10)\n",
        "for i in b:\n",
        "    print(i)"
      ],
      "execution_count": null,
      "outputs": [
        {
          "output_type": "stream",
          "text": [
            "0\n",
            "1\n",
            "2\n",
            "3\n",
            "4\n",
            "5\n",
            "6\n",
            "7\n",
            "8\n",
            "9\n"
          ],
          "name": "stdout"
        }
      ]
    },
    {
      "cell_type": "markdown",
      "metadata": {
        "id": "FgoTXtD2yIm3"
      },
      "source": [
        "#### List"
      ]
    },
    {
      "cell_type": "code",
      "metadata": {
        "id": "yyQE9F4YyIm3",
        "outputId": "b1bd4304-92ca-4c2b-b3fc-c7da48433976"
      },
      "source": [
        "L = [1, 2, 3] # list\n",
        "print(L)"
      ],
      "execution_count": null,
      "outputs": [
        {
          "output_type": "stream",
          "text": [
            "[1, 2, 3]\n"
          ],
          "name": "stdout"
        }
      ]
    },
    {
      "cell_type": "code",
      "metadata": {
        "id": "_gzvFERHyIm7",
        "outputId": "798f62bb-921a-4f51-c77c-565f171a2cde"
      },
      "source": [
        "# indexing\n",
        "L[0], L[1], L[2] # first, second, third"
      ],
      "execution_count": null,
      "outputs": [
        {
          "output_type": "execute_result",
          "data": {
            "text/plain": [
              "(1, 2, 3)"
            ]
          },
          "metadata": {
            "tags": []
          },
          "execution_count": 11
        }
      ]
    },
    {
      "cell_type": "code",
      "metadata": {
        "id": "4K4gbXIlyIm_",
        "outputId": "dca31bba-c6f5-41f8-a524-f7de76b906fd"
      },
      "source": [
        "L[-1], L[-2], L[-3] # last, one before last, two before last"
      ],
      "execution_count": null,
      "outputs": [
        {
          "output_type": "execute_result",
          "data": {
            "text/plain": [
              "(3, 2, 1)"
            ]
          },
          "metadata": {
            "tags": []
          },
          "execution_count": 12
        }
      ]
    },
    {
      "cell_type": "code",
      "metadata": {
        "id": "MiYLZyLAyInD",
        "outputId": "0f415fce-cf97-4454-adb5-c033b47aa2c9"
      },
      "source": [
        "L[0] = 4 # lists are mutable\n",
        "print(L)"
      ],
      "execution_count": null,
      "outputs": [
        {
          "output_type": "stream",
          "text": [
            "[4, 2, 3]\n"
          ],
          "name": "stdout"
        }
      ]
    },
    {
      "cell_type": "code",
      "metadata": {
        "id": "KOt_kEaayInH"
      },
      "source": [
        "# Q1. Change the last element in the list L to 100 and print the element. Type your answer below:\n",
        "\n"
      ],
      "execution_count": null,
      "outputs": []
    },
    {
      "cell_type": "markdown",
      "metadata": {
        "id": "amil5aEByInL"
      },
      "source": [
        "#### Tuple"
      ]
    },
    {
      "cell_type": "code",
      "metadata": {
        "id": "bEf8kpNJyInM",
        "outputId": "19651ed6-4ebf-4823-ed01-7c20814d8692"
      },
      "source": [
        "T = (1, 2, 3) # tuple\n",
        "print(T)"
      ],
      "execution_count": null,
      "outputs": [
        {
          "output_type": "stream",
          "text": [
            "(1, 2, 3)\n"
          ],
          "name": "stdout"
        }
      ]
    },
    {
      "cell_type": "code",
      "metadata": {
        "id": "N9Heu-0oyInS",
        "colab": {
          "base_uri": "https://localhost:8080/",
          "height": 164
        },
        "outputId": "f262ced7-dfae-4b68-c4b9-3739a894df96"
      },
      "source": [
        "T[1]"
      ],
      "execution_count": null,
      "outputs": [
        {
          "output_type": "error",
          "ename": "NameError",
          "evalue": "ignored",
          "traceback": [
            "\u001b[0;31m---------------------------------------------------------------------------\u001b[0m",
            "\u001b[0;31mNameError\u001b[0m                                 Traceback (most recent call last)",
            "\u001b[0;32m<ipython-input-1-9d715c4258e5>\u001b[0m in \u001b[0;36m<module>\u001b[0;34m()\u001b[0m\n\u001b[0;32m----> 1\u001b[0;31m \u001b[0mT\u001b[0m\u001b[0;34m[\u001b[0m\u001b[0;36m1\u001b[0m\u001b[0;34m]\u001b[0m\u001b[0;34m\u001b[0m\u001b[0;34m\u001b[0m\u001b[0m\n\u001b[0m",
            "\u001b[0;31mNameError\u001b[0m: name 'T' is not defined"
          ]
        }
      ]
    },
    {
      "cell_type": "code",
      "metadata": {
        "id": "CKZr-jDEyInZ",
        "outputId": "7d5be903-8a37-4def-a8f4-26f336599335"
      },
      "source": [
        "try:\n",
        "    T[0] =4  # not allowed, tuples are immutable\n",
        "except Exception as e:\n",
        "    print(e)\n",
        "    \n",
        "# Q.2 What happens if you remove try excpet part and just type T[0]=4 ?"
      ],
      "execution_count": null,
      "outputs": [
        {
          "output_type": "stream",
          "text": [
            "'tuple' object does not support item assignment\n"
          ],
          "name": "stdout"
        }
      ]
    },
    {
      "cell_type": "markdown",
      "metadata": {
        "id": "X_UTZcbdyIne"
      },
      "source": [
        "#### Set"
      ]
    },
    {
      "cell_type": "code",
      "metadata": {
        "id": "hjrddiQ2yIne",
        "outputId": "44670d79-c5b6-4825-9c7a-8d7efdf999a9"
      },
      "source": [
        "S = set()\n",
        "print(S)"
      ],
      "execution_count": null,
      "outputs": [
        {
          "output_type": "stream",
          "text": [
            "set()\n"
          ],
          "name": "stdout"
        }
      ]
    },
    {
      "cell_type": "code",
      "metadata": {
        "id": "UePVsDguyInk",
        "outputId": "687c3c3d-cda1-48c1-ead0-73b8da3875e2"
      },
      "source": [
        "S.add(1) # S = {1}\n",
        "print(S)"
      ],
      "execution_count": null,
      "outputs": [
        {
          "output_type": "stream",
          "text": [
            "{1}\n"
          ],
          "name": "stdout"
        }
      ]
    },
    {
      "cell_type": "code",
      "metadata": {
        "id": "a9tlDTkSyInp",
        "outputId": "8d92b12a-73ce-417c-da59-ba061dcaf7d5"
      },
      "source": [
        "S.add(2) # S = {1}\n",
        "print(S)"
      ],
      "execution_count": null,
      "outputs": [
        {
          "output_type": "stream",
          "text": [
            "{1, 2}\n"
          ],
          "name": "stdout"
        }
      ]
    },
    {
      "cell_type": "code",
      "metadata": {
        "id": "A-WtFad2yIns",
        "outputId": "c04d0a40-1ed1-4c40-e266-5fb09eff7764"
      },
      "source": [
        "S.add(1) # S = {1}\n",
        "print(S)"
      ],
      "execution_count": null,
      "outputs": [
        {
          "output_type": "stream",
          "text": [
            "{1, 2}\n"
          ],
          "name": "stdout"
        }
      ]
    },
    {
      "cell_type": "code",
      "metadata": {
        "id": "PG7D2Z2EyInu"
      },
      "source": [
        "# Q.3 Add the element 10 to the set S and print the set:\n",
        "\n"
      ],
      "execution_count": null,
      "outputs": []
    },
    {
      "cell_type": "markdown",
      "metadata": {
        "id": "hz_oowXiyIny"
      },
      "source": [
        "#### Dictionary"
      ]
    },
    {
      "cell_type": "code",
      "metadata": {
        "id": "KdqYPsLXyIny",
        "outputId": "c73bc386-d495-4f06-8366-75363dc97c41"
      },
      "source": [
        "D = {'a': 1, 'b': 2}\n",
        "print(D)"
      ],
      "execution_count": null,
      "outputs": [
        {
          "output_type": "stream",
          "text": [
            "{'a': 1, 'b': 2}\n"
          ],
          "name": "stdout"
        }
      ]
    },
    {
      "cell_type": "code",
      "metadata": {
        "id": "5m9ptgDKyIn2",
        "outputId": "e35ab567-3530-4b20-a1ca-23568a6637e5"
      },
      "source": [
        "D.keys(), D.values(), D.items()   # Q.4 Explain the fuctions keys, values & items "
      ],
      "execution_count": null,
      "outputs": [
        {
          "output_type": "execute_result",
          "data": {
            "text/plain": [
              "(dict_keys(['a', 'b']), dict_values([1, 2]), dict_items([('a', 1), ('b', 2)]))"
            ]
          },
          "metadata": {
            "tags": []
          },
          "execution_count": 24
        }
      ]
    },
    {
      "cell_type": "code",
      "metadata": {
        "id": "U1iflm0gyIn7",
        "outputId": "94e6bd47-419b-4110-b824-e8faf7fab379"
      },
      "source": [
        "D['a'] # access by key"
      ],
      "execution_count": null,
      "outputs": [
        {
          "output_type": "execute_result",
          "data": {
            "text/plain": [
              "1"
            ]
          },
          "metadata": {
            "tags": []
          },
          "execution_count": 25
        }
      ]
    },
    {
      "cell_type": "code",
      "metadata": {
        "id": "BZBLm4B7yIn9",
        "outputId": "52e76c6e-7e31-4164-e41b-7d14b6c2e759"
      },
      "source": [
        "del D['a'] # remove key, value pair\n",
        "print(D)"
      ],
      "execution_count": null,
      "outputs": [
        {
          "output_type": "stream",
          "text": [
            "{'b': 2}\n"
          ],
          "name": "stdout"
        }
      ]
    },
    {
      "cell_type": "markdown",
      "metadata": {
        "id": "61fw6sVAyIn_"
      },
      "source": [
        "#### String"
      ]
    },
    {
      "cell_type": "code",
      "metadata": {
        "id": "FuS54cWgyIoA",
        "outputId": "522a3bd1-ecf0-4aaf-b4a4-38e8b03b50e4"
      },
      "source": [
        "S = \"hello world\"\n",
        "S[0], S[1], S[2] # first, second, third\" #string"
      ],
      "execution_count": null,
      "outputs": [
        {
          "output_type": "execute_result",
          "data": {
            "text/plain": [
              "('h', 'e', 'l')"
            ]
          },
          "metadata": {
            "tags": []
          },
          "execution_count": 27
        }
      ]
    },
    {
      "cell_type": "code",
      "metadata": {
        "id": "KLOuJoHXyIoC",
        "outputId": "15bbe376-e110-4dab-a2cf-9d6863ec663a"
      },
      "source": [
        "S[0], S[1], S[2] # first, second, third"
      ],
      "execution_count": null,
      "outputs": [
        {
          "output_type": "execute_result",
          "data": {
            "text/plain": [
              "('h', 'e', 'l')"
            ]
          },
          "metadata": {
            "tags": []
          },
          "execution_count": 28
        }
      ]
    },
    {
      "cell_type": "code",
      "metadata": {
        "id": "eNCVWzkAyIoF",
        "outputId": "b429de5f-c536-4491-ce69-f781c938f3c1"
      },
      "source": [
        "S[-1], S[-2], S[-3] # last, one before last, two before last"
      ],
      "execution_count": null,
      "outputs": [
        {
          "output_type": "execute_result",
          "data": {
            "text/plain": [
              "('d', 'l', 'r')"
            ]
          },
          "metadata": {
            "tags": []
          },
          "execution_count": 29
        }
      ]
    },
    {
      "cell_type": "code",
      "metadata": {
        "id": "D-ONGXuByIoI",
        "outputId": "81550f69-b1ee-4425-88cb-3290a7de499e"
      },
      "source": [
        "try:\n",
        "    S[0] = 'H' # not allowed, strings are immutable\n",
        "except Exception as e:\n",
        "    print(e)"
      ],
      "execution_count": null,
      "outputs": [
        {
          "output_type": "stream",
          "text": [
            "'str' object does not support item assignment\n"
          ],
          "name": "stdout"
        }
      ]
    },
    {
      "cell_type": "code",
      "metadata": {
        "id": "vv3KiH36yIoK",
        "outputId": "15df917f-7ba7-4dd1-d179-f86e5b0ecab6"
      },
      "source": [
        "# HOWEVER\n",
        "S = 'H' + S[1:] # reconstruct S with new first character and use indexing [1:]\n",
        "print(S)"
      ],
      "execution_count": null,
      "outputs": [
        {
          "output_type": "stream",
          "text": [
            "Hello world\n"
          ],
          "name": "stdout"
        }
      ]
    },
    {
      "cell_type": "markdown",
      "metadata": {
        "id": "7SulHve0yIoO"
      },
      "source": [
        "#### Slicing"
      ]
    },
    {
      "cell_type": "code",
      "metadata": {
        "id": "1GAntMbiyIoP",
        "outputId": "709ebc26-ee09-4ae2-fc53-81075a3123a5"
      },
      "source": [
        "S[0:10] # from index-0 (included) to index-9 (index-10 excluded)"
      ],
      "execution_count": null,
      "outputs": [
        {
          "output_type": "execute_result",
          "data": {
            "text/plain": [
              "'Hello worl'"
            ]
          },
          "metadata": {
            "tags": []
          },
          "execution_count": 32
        }
      ]
    },
    {
      "cell_type": "code",
      "metadata": {
        "id": "N1cOet6HyIoR",
        "outputId": "a91b534e-0bbc-46ed-8019-de1a58ba5a0a"
      },
      "source": [
        "S[:10] # same, ommiting first index starts from 0 (begining)"
      ],
      "execution_count": null,
      "outputs": [
        {
          "output_type": "execute_result",
          "data": {
            "text/plain": [
              "'Hello worl'"
            ]
          },
          "metadata": {
            "tags": []
          },
          "execution_count": 33
        }
      ]
    },
    {
      "cell_type": "code",
      "metadata": {
        "id": "C9NtWWenyIoT",
        "outputId": "0d07309e-35ea-48fa-e661-3c0c8e28579a"
      },
      "source": [
        "S[1:] # ommiting last index ends at the end of the array"
      ],
      "execution_count": null,
      "outputs": [
        {
          "output_type": "execute_result",
          "data": {
            "text/plain": [
              "'ello world'"
            ]
          },
          "metadata": {
            "tags": []
          },
          "execution_count": 34
        }
      ]
    },
    {
      "cell_type": "code",
      "metadata": {
        "id": "8YiSKl30yIoX",
        "outputId": "3b56871d-eb6a-4789-e856-274e4ad28547"
      },
      "source": [
        "S[0:10:2] # 0 to 9 with step size 2 i.e. even indices 0,2,4,6,8"
      ],
      "execution_count": null,
      "outputs": [
        {
          "output_type": "execute_result",
          "data": {
            "text/plain": [
              "'Hlowr'"
            ]
          },
          "metadata": {
            "tags": []
          },
          "execution_count": 35
        }
      ]
    },
    {
      "cell_type": "code",
      "metadata": {
        "id": "dnUl3gYgyIoa"
      },
      "source": [
        "# Q.5 Print the fisrt word from the string S. Type your code below \n",
        "\n"
      ],
      "execution_count": null,
      "outputs": []
    },
    {
      "cell_type": "markdown",
      "metadata": {
        "id": "yu2XTj9nyIoc"
      },
      "source": [
        "#### List Comprehension"
      ]
    },
    {
      "cell_type": "code",
      "metadata": {
        "id": "H0W8nzwKyIod",
        "outputId": "7516e55b-29ec-423b-e43e-45f5d94c9717"
      },
      "source": [
        "L1 = [1,2,3]\n",
        "\n",
        "print(L1)"
      ],
      "execution_count": null,
      "outputs": [
        {
          "output_type": "stream",
          "text": [
            "[1, 2, 3]\n"
          ],
          "name": "stdout"
        }
      ]
    },
    {
      "cell_type": "code",
      "metadata": {
        "id": "KQ3sz2uyyIof",
        "outputId": "6b797aac-5d8e-4297-c417-033ad728be95"
      },
      "source": [
        "# L2 contains double the value for each element in L1\n",
        "\n",
        "L2 = [element*2 for element in L1]\n",
        "print(L2)"
      ],
      "execution_count": null,
      "outputs": [
        {
          "output_type": "stream",
          "text": [
            "[2, 4, 6]\n"
          ],
          "name": "stdout"
        }
      ]
    },
    {
      "cell_type": "markdown",
      "metadata": {
        "id": "imK5LwX7yIoj"
      },
      "source": [
        "<a id=\"Libraries\"></a>\n",
        "## Libraries\n",
        "\n",
        "<a id=\"numpy\"></a>\n",
        "### numpy\n",
        "Mostly can be used for  **arrays, vectors and numerical computations.**\n",
        "\n",
        "\n",
        "<a href=\"https://numpy.org/\">Official Website</a>\n",
        "\n",
        "\n",
        "**PIP**\n",
        "\n",
        "If you use pip, you can install it with:\n",
        "\n",
        "`pip install numpy`"
      ]
    },
    {
      "cell_type": "code",
      "metadata": {
        "id": "aAV4WnioyIok",
        "outputId": "fa6e3d77-9ba9-48ae-8ecd-7e6d378bcc9f"
      },
      "source": [
        "!pip install numpy"
      ],
      "execution_count": null,
      "outputs": [
        {
          "output_type": "stream",
          "text": [
            "Requirement already satisfied: numpy in c:\\users\\kayvan\\anaconda3\\envs\\tf22\\lib\\site-packages (1.18.4)\n"
          ],
          "name": "stdout"
        }
      ]
    },
    {
      "cell_type": "code",
      "metadata": {
        "id": "32BL63ncyIon"
      },
      "source": [
        "import numpy as np"
      ],
      "execution_count": null,
      "outputs": []
    },
    {
      "cell_type": "code",
      "metadata": {
        "id": "LyM9BWkxyIoq",
        "outputId": "1b21af60-be95-464c-90df-bf3bf7f4eabc"
      },
      "source": [
        "a = np.zeros(10)\n",
        "print('a=\\n', a)"
      ],
      "execution_count": null,
      "outputs": [
        {
          "output_type": "stream",
          "text": [
            "a=\n",
            " [0. 0. 0. 0. 0. 0. 0. 0. 0. 0.]\n"
          ],
          "name": "stdout"
        }
      ]
    },
    {
      "cell_type": "code",
      "metadata": {
        "id": "dPmM1Gb0yIot",
        "outputId": "6bcd22a1-d59b-4467-f78a-9f69ebe0c1e6"
      },
      "source": [
        "b = np.ones(10)\n",
        "print('b=\\n', b)"
      ],
      "execution_count": null,
      "outputs": [
        {
          "output_type": "stream",
          "text": [
            "b=\n",
            " [1. 1. 1. 1. 1. 1. 1. 1. 1. 1.]\n"
          ],
          "name": "stdout"
        }
      ]
    },
    {
      "cell_type": "code",
      "metadata": {
        "id": "x2wnklScyIow",
        "outputId": "4c3d984c-6b56-463d-b896-d635c39646bc"
      },
      "source": [
        "print('a-b=', a-b)"
      ],
      "execution_count": null,
      "outputs": [
        {
          "output_type": "stream",
          "text": [
            "a-b= [-1. -1. -1. -1. -1. -1. -1. -1. -1. -1.]\n"
          ],
          "name": "stdout"
        }
      ]
    },
    {
      "cell_type": "code",
      "metadata": {
        "id": "UeB7HmV_yIoz",
        "outputId": "b3ea5f82-b90f-4fcd-97b1-afe0e147bf24"
      },
      "source": [
        "c = np.zeros((2,2))\n",
        "print(c)"
      ],
      "execution_count": null,
      "outputs": [
        {
          "output_type": "stream",
          "text": [
            "[[0. 0.]\n",
            " [0. 0.]]\n"
          ],
          "name": "stdout"
        }
      ]
    },
    {
      "cell_type": "code",
      "metadata": {
        "id": "7o7XFc5EyIo2",
        "outputId": "89c8df3b-2865-411a-d57b-f6778344343e"
      },
      "source": [
        "c[0,0] = 1; c[0,1] = 2; c[1,0] = 3; c[1,1] = 4\n",
        "print('c=', c)"
      ],
      "execution_count": null,
      "outputs": [
        {
          "output_type": "stream",
          "text": [
            "c= [[1. 2.]\n",
            " [3. 4.]]\n"
          ],
          "name": "stdout"
        }
      ]
    },
    {
      "cell_type": "code",
      "metadata": {
        "id": "vYH3Tzu4yIo5",
        "outputId": "75911b3b-a5a1-4051-b188-9f950b802c6f"
      },
      "source": [
        "d = np.array([[1,2], [3,4]]) # construct from python nested list\n",
        "print('d\\n', d)"
      ],
      "execution_count": null,
      "outputs": [
        {
          "output_type": "stream",
          "text": [
            "d\n",
            " [[1 2]\n",
            " [3 4]]\n"
          ],
          "name": "stdout"
        }
      ]
    },
    {
      "cell_type": "code",
      "metadata": {
        "id": "Hw3MkFnmyIo8",
        "outputId": "a9b62f41-7fe6-4382-a594-9108ea10805a"
      },
      "source": [
        "print('c == d\\n', c == d)"
      ],
      "execution_count": null,
      "outputs": [
        {
          "output_type": "stream",
          "text": [
            "c == d\n",
            " [[ True  True]\n",
            " [ True  True]]\n"
          ],
          "name": "stdout"
        }
      ]
    },
    {
      "cell_type": "code",
      "metadata": {
        "id": "1RbDLcpYyIo_",
        "outputId": "d352e386-b396-4d98-e034-4e9bba654d80"
      },
      "source": [
        "print('(c==d).sum()\\n', (c==d).sum())"
      ],
      "execution_count": null,
      "outputs": [
        {
          "output_type": "stream",
          "text": [
            "(c==d).sum()\n",
            " 4\n"
          ],
          "name": "stdout"
        }
      ]
    },
    {
      "cell_type": "code",
      "metadata": {
        "id": "qChypy3cyIpB"
      },
      "source": [
        "arr = np.zeros((3,5)) # 3 rows , 2 columns "
      ],
      "execution_count": null,
      "outputs": []
    },
    {
      "cell_type": "code",
      "metadata": {
        "id": "KlL5Lox6yIpG",
        "outputId": "2997f6a4-b4e1-43ae-b4d7-7c0f411ada92"
      },
      "source": [
        "print(arr)"
      ],
      "execution_count": null,
      "outputs": [
        {
          "output_type": "stream",
          "text": [
            "[[0. 0. 0. 0. 0.]\n",
            " [0. 0. 0. 0. 0.]\n",
            " [0. 0. 0. 0. 0.]]\n"
          ],
          "name": "stdout"
        }
      ]
    },
    {
      "cell_type": "code",
      "metadata": {
        "id": "cjgnyc77yIpK",
        "outputId": "df4e7ac9-a2e7-42c5-e841-c03ace0d1ebd"
      },
      "source": [
        "arr[0:2]=100   # fill in all elements from row 0 to row 1 with '100'\n",
        "print(arr)"
      ],
      "execution_count": null,
      "outputs": [
        {
          "output_type": "stream",
          "text": [
            "[[100. 100. 100. 100. 100.]\n",
            " [100. 100. 100. 100. 100.]\n",
            " [  0.   0.   0.   0.   0.]]\n"
          ],
          "name": "stdout"
        }
      ]
    },
    {
      "cell_type": "code",
      "metadata": {
        "id": "YcEmuapfyIpM",
        "outputId": "fa2a80c3-1ec6-4738-f1fa-e262d3d79fc5"
      },
      "source": [
        "arr[:,4:]= 5   # fill in colums starting at index 4 with '5'\n",
        "print(arr)"
      ],
      "execution_count": null,
      "outputs": [
        {
          "output_type": "stream",
          "text": [
            "[[100. 100. 100. 100.   5.]\n",
            " [100. 100. 100. 100.   5.]\n",
            " [  0.   0.   0.   0.   5.]]\n"
          ],
          "name": "stdout"
        }
      ]
    },
    {
      "cell_type": "code",
      "metadata": {
        "id": "PDUjvJwAyIpP",
        "outputId": "6b5d5452-f9c0-49e1-d13c-672034936b86"
      },
      "source": [
        "print(arr[:2,1:])      # print first 2 rows and colums from 1 to end "
      ],
      "execution_count": null,
      "outputs": [
        {
          "output_type": "stream",
          "text": [
            "[[100. 100. 100.   5.]\n",
            " [100. 100. 100.   5.]]\n"
          ],
          "name": "stdout"
        }
      ]
    },
    {
      "cell_type": "code",
      "metadata": {
        "id": "kcPE0dXOyIpS"
      },
      "source": [
        "# Q6. print the first row in the array 'arr'    "
      ],
      "execution_count": null,
      "outputs": []
    },
    {
      "cell_type": "code",
      "metadata": {
        "id": "TL78uOTgyIpV"
      },
      "source": [
        "# Q7. print the last column in the array 'arr'"
      ],
      "execution_count": null,
      "outputs": []
    },
    {
      "cell_type": "code",
      "metadata": {
        "id": "Nv6g7XMtyIpZ",
        "outputId": "db1112ef-7a78-4f74-8f45-6555c9efc449"
      },
      "source": [
        "arr = np.random.random((2,3)) # random assignement to elements of array \n",
        "print(arr)"
      ],
      "execution_count": null,
      "outputs": [
        {
          "output_type": "stream",
          "text": [
            "[[0.99505769 0.42069853 0.17256386]\n",
            " [0.67009424 0.85683917 0.26389287]]\n"
          ],
          "name": "stdout"
        }
      ]
    },
    {
      "cell_type": "code",
      "metadata": {
        "id": "HuyRjSodyIpd",
        "outputId": "a019fcf3-41b3-4b65-de06-34736c1b4c00"
      },
      "source": [
        "arr[:,1]     # Q.8 What does this function print?"
      ],
      "execution_count": null,
      "outputs": [
        {
          "output_type": "execute_result",
          "data": {
            "text/plain": [
              "array([0.42069853, 0.85683917])"
            ]
          },
          "metadata": {
            "tags": []
          },
          "execution_count": 57
        }
      ]
    },
    {
      "cell_type": "markdown",
      "metadata": {
        "id": "sBpQ84nlyIpg"
      },
      "source": [
        "<a id=\"matplotlib\"></a>\n",
        "## matplotlib\n",
        "Matplotlib is a comprehensive library for creating static, animated, and interactive visualizations\n",
        "\n",
        "<a href=\"https://matplotlib.org/\">Official Website</a>\n",
        "\n",
        "<a href=\"https://matplotlib.org/users/installing.html\">Installation Guide</a>\n",
        "\n",
        "**PIP**\n",
        "\n",
        "If you use pip, you can install it with:\n",
        "\n",
        "`pip install matplotlib`"
      ]
    },
    {
      "cell_type": "code",
      "metadata": {
        "id": "b-Tn-Sn9yIpg"
      },
      "source": [
        "#%matplotlib inline #This command is to plot graphs within the notebook\n",
        "import matplotlib.pylab as plt"
      ],
      "execution_count": null,
      "outputs": []
    },
    {
      "cell_type": "code",
      "metadata": {
        "id": "ibtW5LmCyIpi",
        "outputId": "9db5ae58-597a-4954-912f-e915c169369e"
      },
      "source": [
        "plt.plot(range(10), range(10))\n",
        "plt.plot(range(10), range(1,11), c='green', linestyle=':')\n",
        "plt.show()"
      ],
      "execution_count": null,
      "outputs": [
        {
          "output_type": "display_data",
          "data": {
            "image/png": "[encoded data removed]",
            "text/plain": [
              "<Figure size 432x288 with 1 Axes>"
            ]
          },
          "metadata": {
            "tags": [],
            "needs_background": "light"
          }
        }
      ]
    },
    {
      "cell_type": "code",
      "metadata": {
        "id": "8Zv2v7JOyIpk",
        "outputId": "ab804921-2cc8-4687-de72-4d77770b62a1"
      },
      "source": [
        "# Q9. look up the the functions plot(), bar(), scatter() & hist() \n",
        "fig, ax = plt.subplots(1,2, figsize=(12,4))\n",
        "ax[0].scatter(range(10), range(10))\n",
        "ax[0].scatter(range(10), range(1,11), c='red', marker='x')\n",
        "\n",
        "ax[1].bar(range(10), range(10), 0.5, alpha=0.5) # alpha for transparency\n",
        "ax[1].bar(np.arange(10)-0.3, np.arange(0,5,0.5), 0.5, alpha=0.5)\n",
        "plt.show()"
      ],
      "execution_count": null,
      "outputs": [
        {
          "output_type": "display_data",
          "data": {
            "image/png": "[encoded data removed]",
            "text/plain": [
              "<Figure size 864x288 with 2 Axes>"
            ]
          },
          "metadata": {
            "tags": [],
            "needs_background": "light"
          }
        }
      ]
    },
    {
      "cell_type": "markdown",
      "metadata": {
        "id": "DkFF8DqXyIpn"
      },
      "source": [
        "<a id=\"pandas\"></a>\n",
        "## pandas\n",
        "pandas is a fast, powerful, flexible and easy to use open source data analysis and manipulation tool\n",
        "\n",
        "<a href=\"https://pandas.pydata.org/\">Official Website</a>\n",
        "\n",
        "<a href=\"https://pandas.pydata.org/getting_started.html\">Installation Guide</a>\n",
        "\n",
        "**PIP**\n",
        "\n",
        "If you use pip, you can install it with:\n",
        "\n",
        "`pip install pandas`"
      ]
    },
    {
      "cell_type": "code",
      "metadata": {
        "id": "3GiErenyyIpn",
        "outputId": "4c25c7db-0578-464e-c7d8-9dbf6b575b62"
      },
      "source": [
        "import pandas as pd\n",
        "\n",
        "# from dictionary\n",
        "d = {1: [1,2,3], 2: [4,5,6]}\n",
        "\n",
        "# keys: data index\n",
        "# values: row values\n",
        "df1 = pd.DataFrame.from_dict(d, orient='index')  # df1 is your pandas frame which contains your data \n",
        "print('index oriented')\n",
        "display(df1.head())\n"
      ],
      "execution_count": null,
      "outputs": [
        {
          "output_type": "stream",
          "text": [
            "index oriented\n"
          ],
          "name": "stdout"
        },
        {
          "output_type": "display_data",
          "data": {
            "text/html": [
              "<div>\n",
              "<style scoped>\n",
              "    .dataframe tbody tr th:only-of-type {\n",
              "        vertical-align: middle;\n",
              "    }\n",
              "\n",
              "    .dataframe tbody tr th {\n",
              "        vertical-align: top;\n",
              "    }\n",
              "\n",
              "    .dataframe thead th {\n",
              "        text-align: right;\n",
              "    }\n",
              "</style>\n",
              "<table border=\"1\" class=\"dataframe\">\n",
              "  <thead>\n",
              "    <tr style=\"text-align: right;\">\n",
              "      <th></th>\n",
              "      <th>0</th>\n",
              "      <th>1</th>\n",
              "      <th>2</th>\n",
              "    </tr>\n",
              "  </thead>\n",
              "  <tbody>\n",
              "    <tr>\n",
              "      <th>1</th>\n",
              "      <td>1</td>\n",
              "      <td>2</td>\n",
              "      <td>3</td>\n",
              "    </tr>\n",
              "    <tr>\n",
              "      <th>2</th>\n",
              "      <td>4</td>\n",
              "      <td>5</td>\n",
              "      <td>6</td>\n",
              "    </tr>\n",
              "  </tbody>\n",
              "</table>\n",
              "</div>"
            ],
            "text/plain": [
              "   0  1  2\n",
              "1  1  2  3\n",
              "2  4  5  6"
            ]
          },
          "metadata": {
            "tags": []
          }
        }
      ]
    },
    {
      "cell_type": "code",
      "metadata": {
        "id": "Nk2bXBeuyIpp",
        "outputId": "5834c5c9-dab2-4b23-d116-47dd638da45d"
      },
      "source": [
        "# keys: columns\n",
        "# values: column values\n",
        "df2 = pd.DataFrame.from_dict(d, orient='columns') \n",
        "print('columns oriented')\n",
        "display(df2.head())"
      ],
      "execution_count": null,
      "outputs": [
        {
          "output_type": "stream",
          "text": [
            "columns oriented\n"
          ],
          "name": "stdout"
        },
        {
          "output_type": "display_data",
          "data": {
            "text/html": [
              "<div>\n",
              "<style scoped>\n",
              "    .dataframe tbody tr th:only-of-type {\n",
              "        vertical-align: middle;\n",
              "    }\n",
              "\n",
              "    .dataframe tbody tr th {\n",
              "        vertical-align: top;\n",
              "    }\n",
              "\n",
              "    .dataframe thead th {\n",
              "        text-align: right;\n",
              "    }\n",
              "</style>\n",
              "<table border=\"1\" class=\"dataframe\">\n",
              "  <thead>\n",
              "    <tr style=\"text-align: right;\">\n",
              "      <th></th>\n",
              "      <th>1</th>\n",
              "      <th>2</th>\n",
              "    </tr>\n",
              "  </thead>\n",
              "  <tbody>\n",
              "    <tr>\n",
              "      <th>0</th>\n",
              "      <td>1</td>\n",
              "      <td>4</td>\n",
              "    </tr>\n",
              "    <tr>\n",
              "      <th>1</th>\n",
              "      <td>2</td>\n",
              "      <td>5</td>\n",
              "    </tr>\n",
              "    <tr>\n",
              "      <th>2</th>\n",
              "      <td>3</td>\n",
              "      <td>6</td>\n",
              "    </tr>\n",
              "  </tbody>\n",
              "</table>\n",
              "</div>"
            ],
            "text/plain": [
              "   1  2\n",
              "0  1  4\n",
              "1  2  5\n",
              "2  3  6"
            ]
          },
          "metadata": {
            "tags": []
          }
        }
      ]
    },
    {
      "cell_type": "code",
      "metadata": {
        "id": "kU6gumiRyIpt",
        "outputId": "1fe41559-14c0-4678-d54b-64ce3599ca5c"
      },
      "source": [
        "# from comma-seperated-value (cvs)\n",
        "import io # to create a virtual file (String buffer)\n",
        "\n",
        "csv = \"\"\"width,height\n",
        "10,20\n",
        "3,5\n",
        "30,40\n",
        "11,12\n",
        "1.5,2.5\"\"\"\n",
        "\n",
        "df3 = pd.read_csv(io.StringIO(csv)) # df3 data frame records width and height for  4 instances\n",
        "print('df3')\n",
        "display(df3.head())"
      ],
      "execution_count": null,
      "outputs": [
        {
          "output_type": "stream",
          "text": [
            "df3\n"
          ],
          "name": "stdout"
        },
        {
          "output_type": "display_data",
          "data": {
            "text/html": [
              "<div>\n",
              "<style scoped>\n",
              "    .dataframe tbody tr th:only-of-type {\n",
              "        vertical-align: middle;\n",
              "    }\n",
              "\n",
              "    .dataframe tbody tr th {\n",
              "        vertical-align: top;\n",
              "    }\n",
              "\n",
              "    .dataframe thead th {\n",
              "        text-align: right;\n",
              "    }\n",
              "</style>\n",
              "<table border=\"1\" class=\"dataframe\">\n",
              "  <thead>\n",
              "    <tr style=\"text-align: right;\">\n",
              "      <th></th>\n",
              "      <th>width</th>\n",
              "      <th>height</th>\n",
              "    </tr>\n",
              "  </thead>\n",
              "  <tbody>\n",
              "    <tr>\n",
              "      <th>0</th>\n",
              "      <td>10.0</td>\n",
              "      <td>20.0</td>\n",
              "    </tr>\n",
              "    <tr>\n",
              "      <th>1</th>\n",
              "      <td>3.0</td>\n",
              "      <td>5.0</td>\n",
              "    </tr>\n",
              "    <tr>\n",
              "      <th>2</th>\n",
              "      <td>30.0</td>\n",
              "      <td>40.0</td>\n",
              "    </tr>\n",
              "    <tr>\n",
              "      <th>3</th>\n",
              "      <td>11.0</td>\n",
              "      <td>12.0</td>\n",
              "    </tr>\n",
              "    <tr>\n",
              "      <th>4</th>\n",
              "      <td>1.5</td>\n",
              "      <td>2.5</td>\n",
              "    </tr>\n",
              "  </tbody>\n",
              "</table>\n",
              "</div>"
            ],
            "text/plain": [
              "   width  height\n",
              "0   10.0    20.0\n",
              "1    3.0     5.0\n",
              "2   30.0    40.0\n",
              "3   11.0    12.0\n",
              "4    1.5     2.5"
            ]
          },
          "metadata": {
            "tags": []
          }
        }
      ]
    },
    {
      "cell_type": "code",
      "metadata": {
        "id": "VfD0Wv3YyIpv",
        "outputId": "270310b4-c921-4605-b0e5-3206deec001e"
      },
      "source": [
        "# creating new column\n",
        "# method 1\n",
        "df3['area 1'] = df3['width'] * df3['height']\n",
        "\n",
        "def func(row):\n",
        "    return row.width * row.height\n",
        "# method 2\n",
        "df3['area 2'] = df3.apply(func, axis=1)\n",
        "\n",
        "print('df3 modified')\n",
        "display(df3.head())\n",
        "# Q10 Create a new colums with a categorical value S, M, L & XL "
      ],
      "execution_count": null,
      "outputs": [
        {
          "output_type": "stream",
          "text": [
            "df3 modified\n"
          ],
          "name": "stdout"
        },
        {
          "output_type": "display_data",
          "data": {
            "text/html": [
              "<div>\n",
              "<style scoped>\n",
              "    .dataframe tbody tr th:only-of-type {\n",
              "        vertical-align: middle;\n",
              "    }\n",
              "\n",
              "    .dataframe tbody tr th {\n",
              "        vertical-align: top;\n",
              "    }\n",
              "\n",
              "    .dataframe thead th {\n",
              "        text-align: right;\n",
              "    }\n",
              "</style>\n",
              "<table border=\"1\" class=\"dataframe\">\n",
              "  <thead>\n",
              "    <tr style=\"text-align: right;\">\n",
              "      <th></th>\n",
              "      <th>width</th>\n",
              "      <th>height</th>\n",
              "      <th>area 1</th>\n",
              "      <th>area 2</th>\n",
              "    </tr>\n",
              "  </thead>\n",
              "  <tbody>\n",
              "    <tr>\n",
              "      <th>0</th>\n",
              "      <td>10.0</td>\n",
              "      <td>20.0</td>\n",
              "      <td>200.00</td>\n",
              "      <td>200.00</td>\n",
              "    </tr>\n",
              "    <tr>\n",
              "      <th>1</th>\n",
              "      <td>3.0</td>\n",
              "      <td>5.0</td>\n",
              "      <td>15.00</td>\n",
              "      <td>15.00</td>\n",
              "    </tr>\n",
              "    <tr>\n",
              "      <th>2</th>\n",
              "      <td>30.0</td>\n",
              "      <td>40.0</td>\n",
              "      <td>1200.00</td>\n",
              "      <td>1200.00</td>\n",
              "    </tr>\n",
              "    <tr>\n",
              "      <th>3</th>\n",
              "      <td>11.0</td>\n",
              "      <td>12.0</td>\n",
              "      <td>132.00</td>\n",
              "      <td>132.00</td>\n",
              "    </tr>\n",
              "    <tr>\n",
              "      <th>4</th>\n",
              "      <td>1.5</td>\n",
              "      <td>2.5</td>\n",
              "      <td>3.75</td>\n",
              "      <td>3.75</td>\n",
              "    </tr>\n",
              "  </tbody>\n",
              "</table>\n",
              "</div>"
            ],
            "text/plain": [
              "   width  height   area 1   area 2\n",
              "0   10.0    20.0   200.00   200.00\n",
              "1    3.0     5.0    15.00    15.00\n",
              "2   30.0    40.0  1200.00  1200.00\n",
              "3   11.0    12.0   132.00   132.00\n",
              "4    1.5     2.5     3.75     3.75"
            ]
          },
          "metadata": {
            "tags": []
          }
        }
      ]
    },
    {
      "cell_type": "code",
      "metadata": {
        "id": "_i1N9QM2yIpx",
        "outputId": "cf127cb3-7395-4217-bfd0-82c476cda2e6"
      },
      "source": [
        "display(df3.describe()) # display full statistical summary of the records including mean, std, min, max,...etc"
      ],
      "execution_count": null,
      "outputs": [
        {
          "output_type": "display_data",
          "data": {
            "text/html": [
              "<div>\n",
              "<style scoped>\n",
              "    .dataframe tbody tr th:only-of-type {\n",
              "        vertical-align: middle;\n",
              "    }\n",
              "\n",
              "    .dataframe tbody tr th {\n",
              "        vertical-align: top;\n",
              "    }\n",
              "\n",
              "    .dataframe thead th {\n",
              "        text-align: right;\n",
              "    }\n",
              "</style>\n",
              "<table border=\"1\" class=\"dataframe\">\n",
              "  <thead>\n",
              "    <tr style=\"text-align: right;\">\n",
              "      <th></th>\n",
              "      <th>width</th>\n",
              "      <th>height</th>\n",
              "      <th>area 1</th>\n",
              "      <th>area 2</th>\n",
              "    </tr>\n",
              "  </thead>\n",
              "  <tbody>\n",
              "    <tr>\n",
              "      <th>count</th>\n",
              "      <td>5.000000</td>\n",
              "      <td>5.000000</td>\n",
              "      <td>5.000000</td>\n",
              "      <td>5.000000</td>\n",
              "    </tr>\n",
              "    <tr>\n",
              "      <th>mean</th>\n",
              "      <td>11.100000</td>\n",
              "      <td>15.900000</td>\n",
              "      <td>310.150000</td>\n",
              "      <td>310.150000</td>\n",
              "    </tr>\n",
              "    <tr>\n",
              "      <th>std</th>\n",
              "      <td>11.360018</td>\n",
              "      <td>15.093045</td>\n",
              "      <td>504.157205</td>\n",
              "      <td>504.157205</td>\n",
              "    </tr>\n",
              "    <tr>\n",
              "      <th>min</th>\n",
              "      <td>1.500000</td>\n",
              "      <td>2.500000</td>\n",
              "      <td>3.750000</td>\n",
              "      <td>3.750000</td>\n",
              "    </tr>\n",
              "    <tr>\n",
              "      <th>25%</th>\n",
              "      <td>3.000000</td>\n",
              "      <td>5.000000</td>\n",
              "      <td>15.000000</td>\n",
              "      <td>15.000000</td>\n",
              "    </tr>\n",
              "    <tr>\n",
              "      <th>50%</th>\n",
              "      <td>10.000000</td>\n",
              "      <td>12.000000</td>\n",
              "      <td>132.000000</td>\n",
              "      <td>132.000000</td>\n",
              "    </tr>\n",
              "    <tr>\n",
              "      <th>75%</th>\n",
              "      <td>11.000000</td>\n",
              "      <td>20.000000</td>\n",
              "      <td>200.000000</td>\n",
              "      <td>200.000000</td>\n",
              "    </tr>\n",
              "    <tr>\n",
              "      <th>max</th>\n",
              "      <td>30.000000</td>\n",
              "      <td>40.000000</td>\n",
              "      <td>1200.000000</td>\n",
              "      <td>1200.000000</td>\n",
              "    </tr>\n",
              "  </tbody>\n",
              "</table>\n",
              "</div>"
            ],
            "text/plain": [
              "           width     height       area 1       area 2\n",
              "count   5.000000   5.000000     5.000000     5.000000\n",
              "mean   11.100000  15.900000   310.150000   310.150000\n",
              "std    11.360018  15.093045   504.157205   504.157205\n",
              "min     1.500000   2.500000     3.750000     3.750000\n",
              "25%     3.000000   5.000000    15.000000    15.000000\n",
              "50%    10.000000  12.000000   132.000000   132.000000\n",
              "75%    11.000000  20.000000   200.000000   200.000000\n",
              "max    30.000000  40.000000  1200.000000  1200.000000"
            ]
          },
          "metadata": {
            "tags": []
          }
        }
      ]
    },
    {
      "cell_type": "code",
      "metadata": {
        "id": "UpCdJViPyIpy",
        "outputId": "3b29350a-9d2d-4de2-e754-d20ba2f1c726"
      },
      "source": [
        "df3.plot(kind='bar')"
      ],
      "execution_count": null,
      "outputs": [
        {
          "output_type": "execute_result",
          "data": {
            "text/plain": [
              "<matplotlib.axes._subplots.AxesSubplot at 0x29763ab8848>"
            ]
          },
          "metadata": {
            "tags": []
          },
          "execution_count": 66
        },
        {
          "output_type": "display_data",
          "data": {
            "image/png": "[encoded data removed]",
            "text/plain": [
              "<Figure size 432x288 with 1 Axes>"
            ]
          },
          "metadata": {
            "tags": [],
            "needs_background": "light"
          }
        }
      ]
    },
    {
      "cell_type": "markdown",
      "metadata": {
        "id": "mWpxGQKJyIp1"
      },
      "source": [
        "<a id=\"scikit-learn\"></a>\n",
        "## scikit-learn\n",
        "Machine Learning in Python. Simple and efficient tools for predictive data analysis\n",
        "\n",
        "<a href=\"https://scikit-learn.org/stable/\">Official Website</a>\n",
        "\n",
        "<a href=\"https://scikit-learn.org/stable/install.html\">Installation Guide</a>\n",
        "\n",
        "**PIP**\n",
        "\n",
        "If you use pip, you can install it with:\n",
        "\n",
        "`pip install sklearn`"
      ]
    },
    {
      "cell_type": "code",
      "metadata": {
        "id": "e7VblyEqyIp1"
      },
      "source": [
        "# some models for classification and regression\n",
        "from sklearn.linear_model import LogisticRegression, LinearRegression\n",
        "from sklearn.neighbors import KNeighborsClassifier, KNeighborsRegressor\n",
        "from sklearn.tree import DecisionTreeClassifier, DecisionTreeRegressor\n",
        "\n",
        "# model selection tools\n",
        "from sklearn.model_selection import KFold, train_test_split, GridSearchCV\n",
        "\n",
        "# metrics\n",
        "from sklearn.metrics import accuracy_score, roc_auc_score, f1_score, precision_score, recall_score, confusion_matrix"
      ],
      "execution_count": null,
      "outputs": []
    },
    {
      "cell_type": "code",
      "metadata": {
        "id": "NTJGn-EgyIp5"
      },
      "source": [
        ""
      ],
      "execution_count": null,
      "outputs": []
    }
  ]
}